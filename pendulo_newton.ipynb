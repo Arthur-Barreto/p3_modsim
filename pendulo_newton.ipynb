{
 "cells": [
  {
   "cell_type": "markdown",
   "metadata": {},
   "source": [
    "# Pêndulo de Newton\n",
    "\n",
    "*Modelagem e Simulação do Mundo Físico*\n",
    "\n",
    "Grupo: Antônio Amaral, Arthur Barreto, Ana Laiz Farias, Luan Cintra"
   ]
  },
  {
   "cell_type": "markdown",
   "metadata": {},
   "source": [
    "*#Importando Bibliotecas*"
   ]
  },
  {
   "cell_type": "code",
   "execution_count": 36,
   "metadata": {},
   "outputs": [],
   "source": [
    "#Numpy\n",
    "import numpy as np\n",
    "#MatPlotLib\n",
    "import matplotlib.pyplot as plt\n",
    "#Math\n",
    "from math import *\n",
    "#Solve_IVP\n",
    "from scipy.integrate import solve_ivp"
   ]
  },
  {
   "cell_type": "markdown",
   "metadata": {},
   "source": [
    "*#Medidas Padrões*"
   ]
  },
  {
   "cell_type": "code",
   "execution_count": 37,
   "metadata": {},
   "outputs": [],
   "source": [
    "L = 0.06\n",
    "g = 10\n",
    "m = 0.0064\n",
    "D = 0.04\n",
    "K = 0.92"
   ]
  },
  {
   "cell_type": "markdown",
   "metadata": {},
   "source": [
    "*#Modelo*"
   ]
  },
  {
   "cell_type": "code",
   "execution_count": 38,
   "metadata": {},
   "outputs": [],
   "source": [
    "def modelo(t,lista):\n",
    "    x = lista[0]\n",
    "    y = lista[1]\n",
    "    vx = lista[2]\n",
    "    vy = lista[3]\n",
    "    v = sqrt( vx**2 + vy**2 )\n",
    "    cosseno = ( L - y ) / L\n",
    "    seno = - x / L\n",
    "    T = m * g * cosseno + m * v**2 / L\n",
    "    dxdt = vx\n",
    "    dydt = vy\n",
    "    dvxdt = T / m * seno\n",
    "    dvydt = - g + T / m * cosseno\n",
    "    \n",
    "    return [ dxdt , dydt , dvxdt , dvydt ]\n",
    "    \n",
    "def cond_parada(t, lista):\n",
    "    return lista[0]\n",
    "\n",
    "cond_parada.terminal = True\n",
    "\n",
    "def encontra_t_max(lista_t,lista_y):\n",
    "    ymax = lista_y[0]\n",
    "    tmax = 0\n",
    "    for i in range(len(lista_t)):\n",
    "        if lista_y[i]>ymax:\n",
    "            ymax = lista_y[i]\n",
    "            tmax = lista_t[i]\n",
    "    return tmax"
   ]
  },
  {
   "cell_type": "markdown",
   "metadata": {},
   "source": [
    "*#Calculos*"
   ]
  },
  {
   "cell_type": "code",
   "execution_count": 39,
   "metadata": {},
   "outputs": [],
   "source": [
    "L = 0.06 #Comprimento de L\n",
    "x_0 = -7.344e-2 #X Inicial\n",
    "y_0 = 2.725e-2 #Y Inicial\n",
    "\n",
    "sen = y_0/L #Calculando Seno\n",
    "cos = sqrt(1 - sen**2) #Calculando Cosseno"
   ]
  },
  {
   "cell_type": "markdown",
   "metadata": {},
   "source": [
    "*#Testando Execução Bilateral*"
   ]
  },
  {
   "cell_type": "code",
   "execution_count": 40,
   "metadata": {},
   "outputs": [],
   "source": [
    "tf = 2 #Tempo Final\n",
    "dt = 1e-3 #Delta Tempo\n",
    "t_span = ( 0 , tf )\n",
    "lista_t = np.arange( 0, tf, dt)\n",
    "\n",
    "CI = [ -L*cos, L*sen+0.005 , 0 , 0 ] #Condições Iniciais\n",
    "\n",
    "solucao = solve_ivp( modelo , t_span , CI , events = cond_parada , t_eval = lista_t )\n",
    "\n",
    "lista_x = solucao.y[ 0 , : ] #X\n",
    "lista_y = solucao.y[ 1 , : ] #Y\n",
    "lista_vx = solucao.y[ 2 , : ] #VX\n",
    "\n",
    "plt.plot( lista_x , lista_y , 'r')\n",
    "\n",
    "CI = [ 1e-4 , 0 , K * lista_vx[-1] , 0 ]\n",
    "\n",
    "solucao = solve_ivp( modelo , t_span , CI , events = cond_parada , t_eval = lista_t )\n",
    "\n",
    "lista_x = solucao.y[ 0 , : ] + D  # D FOI SOMADO PARA REPRESENTAR A POSIÇÃO DA BOLINHA DA DIREITA\n",
    "lista_y = solucao.y[ 1 , : ]\n",
    "\n",
    "plt.plot( lista_x , lista_y, 'b')\n",
    "plt.grid()\n",
    "plt.axis(\"equal\")\n",
    "plt.show()"
   ]
  },
  {
   "cell_type": "markdown",
   "metadata": {},
   "source": [
    "### Implementação do Modelo com Perda de energia"
   ]
  },
  {
   "cell_type": "markdown",
   "metadata": {},
   "source": [
    "*#Introduzindo Listas*"
   ]
  },
  {
   "cell_type": "code",
   "execution_count": 41,
   "metadata": {},
   "outputs": [],
   "source": [
    "lista_ymax = []\n",
    "lista_t_ymax = []"
   ]
  },
  {
   "cell_type": "markdown",
   "metadata": {},
   "source": [
    "*#Variaveis*"
   ]
  },
  {
   "cell_type": "code",
   "execution_count": 42,
   "metadata": {},
   "outputs": [],
   "source": [
    "tfinal = 0"
   ]
  },
  {
   "cell_type": "markdown",
   "metadata": {},
   "source": [
    "*#Condições Iniciais*"
   ]
  },
  {
   "cell_type": "code",
   "execution_count": 43,
   "metadata": {},
   "outputs": [],
   "source": [
    "CI = [ -L*cos , L*sen+0.005 , 0 , 0 ]"
   ]
  },
  {
   "cell_type": "markdown",
   "metadata": {},
   "source": [
    "*#Loop Principal*"
   ]
  },
  {
   "cell_type": "code",
   "execution_count": 44,
   "metadata": {},
   "outputs": [],
   "source": [
    "for i in range(50):\n",
    "\n",
    "    if i%2 == 0 :\n",
    "\n",
    "        solucao = solve_ivp( modelo , t_span , CI , events = cond_parada , t_eval = lista_t )\n",
    "\n",
    "        lista_x = solucao.y[ 0 , : ]\n",
    "        lista_y = solucao.y[ 1 , : ]\n",
    "        lista_vx = solucao.y[ 2 , : ]\n",
    "\n",
    "        lista_ymax.append(max(lista_y))\n",
    "        lista_t_ymax.append(encontra_t_max( solucao.t , lista_y ) + tfinal)\n",
    "\n",
    "        tfinal = tfinal + solucao.t[-1]\n",
    "        \n",
    "        plt.plot( lista_x , lista_y ) \n",
    "\n",
    "        CI = [ 1e-4 , 0 , K * lista_vx[-1] , 0 ]\n",
    "        \n",
    "    else:\n",
    "    \n",
    "        solucao = solve_ivp( modelo , t_span , CI , events = cond_parada , t_eval = lista_t )\n",
    "\n",
    "        lista_x = solucao.y[ 0 , : ] + D\n",
    "        lista_y = solucao.y[ 1 , : ]\n",
    "        lista_vx = solucao.y[ 2 , : ]\n",
    "\n",
    "        lista_ymax.append(max(lista_y))\n",
    "        lista_t_ymax.append(encontra_t_max( solucao.t , lista_y ) + tfinal)\n",
    "\n",
    "        tfinal = tfinal + solucao.t[-1]\n",
    "        \n",
    "        plt.plot( lista_x , lista_y ) \n",
    "        \n",
    "        CI = [ -1e-4 , 0 , K * lista_vx[-1] , 0 ]\n",
    "\n",
    "#Plot Gráfico\n",
    "#Movimento do Pendulo\n",
    "plt.axis(\"equal\")\n",
    "plt.title(\"Movimento do pendulo\")\n",
    "plt.grid(True)\n",
    "plt.show() \n",
    "\n",
    "#Altura Máxima em Função do Tempo\n",
    "plt.plot( lista_t_ymax , lista_ymax, 'ro' )\n",
    "plt.title(\"Altura máxima em função do tempo\")\n",
    "plt.grid(True)\n",
    "plt.show() \n",
    "\n"
   ]
  },
  {
   "cell_type": "markdown",
   "metadata": {},
   "source": [
    "### Validação do Modelo"
   ]
  },
  {
   "cell_type": "markdown",
   "metadata": {},
   "source": [
    "*#Importações*"
   ]
  },
  {
   "cell_type": "code",
   "execution_count": 45,
   "metadata": {},
   "outputs": [],
   "source": [
    "import pandas"
   ]
  },
  {
   "cell_type": "markdown",
   "metadata": {},
   "source": [
    "*#Recebendo e Definindo Medidas Experimentais*"
   ]
  },
  {
   "cell_type": "code",
   "execution_count": 46,
   "metadata": {},
   "outputs": [],
   "source": [
    "colunas = [\"t\",\"x\",\"y\"] #,\"vx\",\"vy\"]\n",
    "datae = pandas.read_csv(\"Dados_MassA.csv\",names = colunas)\n",
    "datad = pandas.read_csv(\"Dados_MassB.csv\",names = colunas)\n",
    "\n",
    "te = datae.t.tolist()\n",
    "# ajustar a origem no eixo do tempo\n",
    "\n",
    "t_e = []\n",
    "for t in te:\n",
    "    t_e.append(t - 8.133)\n",
    "    \n",
    "xe = datae.x.tolist()\n",
    "ye = datae.y.tolist()\n",
    "# VAMOS CALCULAR A ALTURA MÁXIMA DE CADA COLISÃO\n",
    "y_e_max = [ye[0],ye[33],ye[66],ye[98],ye[128],ye[161],ye[193],ye[224],ye[258],ye[289]]  \n",
    "t_e_ok = [t_e[0],t_e[33],t_e[66],t_e[98],t_e[128],t_e[161],t_e[193],t_e[224],t_e[258],t_e[289]]\n",
    "\n",
    "# ajustar a origem no eixo do tempo para o lado direito\n",
    "td = datad.t.tolist()\n",
    "\n",
    "t_d = []\n",
    "for t in td:\n",
    "    t_d.append(t - 8.275)\n",
    "        \n",
    "xd = datad.x.tolist()\n",
    "yd = datad.y.tolist()\n",
    "y_d_max = [yd[18],yd[50],yd[82],yd[115],yd[147],yd[179],yd[210],yd[240],yd[273],yd[305]]\n",
    "t_d_ok = [t_d[18],t_d[50],t_d[82],t_d[115],t_d[147],t_d[179],t_d[210],t_d[240],t_d[273],t_d[305]]\n",
    "\n",
    "# print(ye[0])\n",
    "# print(lista_ymax[0])\n",
    "d = lista_ymax[0] - ye[0]\n",
    "#print(\"Devemos deslocar {} no eixo\".format(d))\n",
    "y = []\n",
    "for x in lista_ymax:\n",
    "    y.append(x - d)\n"
   ]
  },
  {
   "cell_type": "markdown",
   "metadata": {},
   "source": [
    "*#Plotando Gráficos*"
   ]
  },
  {
   "cell_type": "code",
   "execution_count": 47,
   "metadata": {},
   "outputs": [],
   "source": [
    "plt.title(\"Resultado da primeira iteração\")\n",
    "plt.plot(t_e_ok,y_e_max,\"mo\", label = \"Bola Esquerda\")\n",
    "plt.plot(t_d_ok,y_d_max,\"bo\", label = \"Bola Direita\")\n",
    "plt.plot(lista_t_ymax , y, 'r', label = \"Teórico\")\n",
    "plt.legend()\n",
    "plt.xlabel(\"Tempo (s)\")\n",
    "plt.ylabel(\"Altura máxima (m)\")\n",
    "plt.grid(True)\n",
    "plt.show()"
   ]
  },
  {
   "cell_type": "markdown",
   "metadata": {},
   "source": [
    "#### Verificando Qual a Melhor Constante de Perda (K)"
   ]
  },
  {
   "cell_type": "markdown",
   "metadata": {},
   "source": [
    "*#Criando Lista de K*"
   ]
  },
  {
   "cell_type": "code",
   "execution_count": 48,
   "metadata": {},
   "outputs": [],
   "source": [
    "lisK = np.arange(0.96,0.965,0.001)"
   ]
  },
  {
   "cell_type": "markdown",
   "metadata": {},
   "source": [
    "*#Loop Principal*"
   ]
  },
  {
   "cell_type": "code",
   "execution_count": 49,
   "metadata": {},
   "outputs": [],
   "source": [
    "for K in lisK:\n",
    "    \n",
    "    CI = [ -L*cos , L*sen + 0.005, 0 , 0 ]\n",
    "    \n",
    "    lista_ymax_1 = []\n",
    "    lista_t_ymax_1 = []\n",
    "    tfinal_1 = 0\n",
    "\n",
    "    for i in range(50):\n",
    "\n",
    "        if i%2 == 0 :\n",
    "\n",
    "            solucao = solve_ivp( modelo , t_span , CI , events = cond_parada , t_eval = lista_t )\n",
    "\n",
    "            lista_x = solucao.y[ 0 , : ]\n",
    "            lista_y = solucao.y[ 1 , : ]\n",
    "            lista_vx = solucao.y[ 2 , : ]\n",
    "\n",
    "            lista_ymax_1.append(max(lista_y))\n",
    "            lista_t_ymax_1.append(encontra_t_max( solucao.t , lista_y ) + tfinal_1)\n",
    "\n",
    "            tfinal_1 = tfinal_1 + solucao.t[-1]\n",
    "\n",
    "            #plt.plot( lista_x , lista_y ) \n",
    "\n",
    "            CI = [ 1e-4 , 0 , K * lista_vx[-1] , 0 ]\n",
    "\n",
    "        else:\n",
    "\n",
    "            solucao = solve_ivp( modelo , t_span , CI , events = cond_parada , t_eval = lista_t )\n",
    "\n",
    "            lista_x = solucao.y[ 0 , : ] + D\n",
    "            lista_y = solucao.y[ 1 , : ]\n",
    "            lista_vx = solucao.y[ 2 , : ]\n",
    "\n",
    "            lista_ymax_1.append(max(lista_y))\n",
    "            lista_t_ymax_1.append(encontra_t_max( solucao.t , lista_y ) + tfinal_1)\n",
    "\n",
    "            tfinal_1 = tfinal_1 + solucao.t[-1]\n",
    "\n",
    "            #plt.plot( lista_x , lista_y ) \n",
    "\n",
    "            CI = [ -1e-4 , 0 , K * lista_vx[-1] , 0 ]\n",
    "            \n",
    "    # agora plotar os graficos corretos\n",
    "    \n",
    "    y = []\n",
    "    for x in lista_ymax_1:\n",
    "        y.append(x - d)\n",
    "    \n",
    "    plt.plot( lista_t_ymax_1 , y, label = \"K = {}\".format(K))\n",
    "\n",
    "#Plot Gráfico - Variação de K\n",
    "plt.plot(t_e_ok,y_e_max,\"mo\", label = \"Bola Esquerda\")\n",
    "plt.plot(t_d_ok,y_d_max,\"bo\", label = \"Bola Direita\") \n",
    "plt.title(\"Variando o K\")\n",
    "plt.xlabel(\"Tempo (s)\")\n",
    "plt.ylabel(\"Altura máxima (m)\")\n",
    "plt.grid(True)\n",
    "plt.legend()\n",
    "plt.show()"
   ]
  },
  {
   "cell_type": "markdown",
   "metadata": {},
   "source": [
    "#### Criando Modelo com K Calibrado"
   ]
  },
  {
   "cell_type": "markdown",
   "metadata": {},
   "source": [
    "*#Listas*"
   ]
  },
  {
   "cell_type": "code",
   "execution_count": 50,
   "metadata": {},
   "outputs": [],
   "source": [
    "lista_ymax_2 = []\n",
    "lista_t_ymax_2 = []\n",
    "y1 = []"
   ]
  },
  {
   "cell_type": "markdown",
   "metadata": {},
   "source": [
    "*#Condições Iniciais*"
   ]
  },
  {
   "cell_type": "code",
   "execution_count": 51,
   "metadata": {},
   "outputs": [],
   "source": [
    "CI = [ -L*cos , L*sen + 0.005, 0 , 0 ]"
   ]
  },
  {
   "cell_type": "markdown",
   "metadata": {},
   "source": [
    "*#Variaveis*"
   ]
  },
  {
   "cell_type": "code",
   "execution_count": 52,
   "metadata": {},
   "outputs": [],
   "source": [
    "tfinal_2 = 0\n",
    "K = 0.963"
   ]
  },
  {
   "cell_type": "markdown",
   "metadata": {},
   "source": [
    "*#Loop Principal*"
   ]
  },
  {
   "cell_type": "code",
   "execution_count": 53,
   "metadata": {},
   "outputs": [],
   "source": [
    "for i in range(50):\n",
    "\n",
    "    if i%2 == 0 :\n",
    "\n",
    "        solucao = solve_ivp( modelo , t_span , CI , events = cond_parada , t_eval = lista_t )\n",
    "\n",
    "        lista_x = solucao.y[ 0 , : ]\n",
    "        lista_y = solucao.y[ 1 , : ]\n",
    "        lista_vx = solucao.y[ 2 , : ]\n",
    "\n",
    "        lista_ymax_2.append(max(lista_y))\n",
    "        lista_t_ymax_2.append(encontra_t_max( solucao.t , lista_y ) + tfinal_2)\n",
    "\n",
    "        tfinal_2 = tfinal_2 + solucao.t[-1]\n",
    "\n",
    "        #plt.plot( lista_x , lista_y ) \n",
    "\n",
    "        CI = [ 1e-4 , 0 , K * lista_vx[-1] , 0 ]\n",
    "\n",
    "    else:\n",
    "\n",
    "        solucao = solve_ivp( modelo , t_span , CI , events = cond_parada , t_eval = lista_t )\n",
    "\n",
    "        lista_x = solucao.y[ 0 , : ] + D\n",
    "        lista_y = solucao.y[ 1 , : ]\n",
    "        lista_vx = solucao.y[ 2 , : ]\n",
    "\n",
    "        lista_ymax_2.append(max(lista_y))\n",
    "        lista_t_ymax_2.append(encontra_t_max( solucao.t , lista_y ) + tfinal_2)\n",
    "\n",
    "        tfinal_2 = tfinal_2 + solucao.t[-1]\n",
    "\n",
    "        #plt.plot( lista_x , lista_y ) \n",
    "\n",
    "        CI = [ -1e-4 , 0 , K * lista_vx[-1] , 0 ]\n",
    "\n",
    "# agora plotar os graficos corretos\n",
    "\n",
    "\n",
    "for x in lista_ymax_2:\n",
    "    y1.append(x - d)\n",
    "\n",
    "plt.plot( lista_t_ymax_2 , y1, \"r\", label = \"K = {}\".format(K))\n",
    "plt.plot(t_e_ok,y_e_max,\"mo\", label = \"Bola Esquerda\")\n",
    "plt.plot(t_d_ok,y_d_max,\"bo\", label = \"Bola Direita\") \n",
    "plt.title(\"Validação do Modelo\")\n",
    "plt.xlabel(\"Tempo (s)\")\n",
    "plt.ylabel(\"Altura máxima (m)\")\n",
    "plt.grid(True)\n",
    "plt.legend()\n",
    "plt.show() "
   ]
  },
  {
   "cell_type": "markdown",
   "metadata": {},
   "source": [
    "### Gráfico Conclusivo do Modelo"
   ]
  },
  {
   "cell_type": "markdown",
   "metadata": {},
   "source": [
    "*#Importações*"
   ]
  },
  {
   "cell_type": "code",
   "execution_count": 54,
   "metadata": {},
   "outputs": [],
   "source": [
    "#Ferramentas 3D\n",
    "from mpl_toolkits.mplot3d import Axes3D\n",
    "#MatPlotLib\n",
    "from matplotlib import cm\n",
    "from matplotlib.ticker import LinearLocator, FormatStrFormatter\n",
    "%matplotlib qt5"
   ]
  },
  {
   "cell_type": "markdown",
   "metadata": {},
   "source": [
    "*#Listas*"
   ]
  },
  {
   "cell_type": "code",
   "execution_count": 55,
   "metadata": {},
   "outputs": [
    {
     "name": "stdout",
     "output_type": "stream",
     "text": [
      "10 10\n"
     ]
    }
   ],
   "source": [
    "#Lista de Alpha (Massas)\n",
    "lista_alpha = np.linspace(6.4e-3,8,10)\n",
    "#Lista de Beta (K)\n",
    "lista_beta = np.linspace(0,1,10)\n",
    "#Lista de Máximo\n",
    "ListaMaximo = []\n",
    "\n",
    "print(len(lista_beta),len(lista_alpha))"
   ]
  },
  {
   "cell_type": "markdown",
   "metadata": {},
   "source": [
    "## Modelo"
   ]
  },
  {
   "cell_type": "markdown",
   "metadata": {},
   "source": [
    "*Neste Modelo acrescentamos a opção de variar a massa das bolas do Pêndulo*"
   ]
  },
  {
   "cell_type": "code",
   "execution_count": 56,
   "metadata": {},
   "outputs": [],
   "source": [
    "def modelo1(t,lista,M):\n",
    "    x = lista[0]\n",
    "    y = lista[1]\n",
    "    vx = lista[2]\n",
    "    vy = lista[3]\n",
    "    v = sqrt( vx**2 + vy**2 )\n",
    "    cosseno = ( L - y ) / L\n",
    "    seno = - x / L\n",
    "    T = M * g * cosseno + M * v**2 / L\n",
    "    dxdt = vx\n",
    "    dydt = vy\n",
    "    dvxdt = T / M * seno\n",
    "    dvydt = - g + T / M * cosseno\n",
    "    Dxdt = [dxdt,dydt,dvxdt,dvydt]\n",
    "    return Dxdt\n",
    "def cond_parada(t, lista,M):\n",
    "    return lista[0]\n",
    "\n",
    "cond_parada.terminal = True"
   ]
  },
  {
   "cell_type": "markdown",
   "metadata": {},
   "source": [
    "*#Loop Principal*"
   ]
  },
  {
   "cell_type": "code",
   "execution_count": 59,
   "metadata": {},
   "outputs": [
    {
     "ename": "ValueError",
     "evalue": "Argument Z must be 2-dimensional.",
     "output_type": "error",
     "traceback": [
      "\u001b[0;31m---------------------------------------------------------------------------\u001b[0m",
      "\u001b[0;31mValueError\u001b[0m                                Traceback (most recent call last)",
      "\u001b[0;32m<ipython-input-59-f26baab44f88>\u001b[0m in \u001b[0;36m<module>\u001b[0;34m\u001b[0m\n\u001b[1;32m     49\u001b[0m \u001b[0;34m\u001b[0m\u001b[0m\n\u001b[1;32m     50\u001b[0m \u001b[0;31m#Plot - Surperficie\u001b[0m\u001b[0;34m\u001b[0m\u001b[0;34m\u001b[0m\u001b[0;34m\u001b[0m\u001b[0m\n\u001b[0;32m---> 51\u001b[0;31m \u001b[0msurf\u001b[0m \u001b[0;34m=\u001b[0m \u001b[0max\u001b[0m\u001b[0;34m.\u001b[0m\u001b[0mplot_surface\u001b[0m\u001b[0;34m(\u001b[0m\u001b[0mX\u001b[0m\u001b[0;34m,\u001b[0m\u001b[0mY\u001b[0m\u001b[0;34m,\u001b[0m\u001b[0mZ\u001b[0m\u001b[0;34m,\u001b[0m\u001b[0mcmap\u001b[0m \u001b[0;34m=\u001b[0m \u001b[0mcm\u001b[0m\u001b[0;34m.\u001b[0m\u001b[0mcoolwarm\u001b[0m\u001b[0;34m,\u001b[0m \u001b[0mlinewidth\u001b[0m \u001b[0;34m=\u001b[0m \u001b[0;36m0\u001b[0m\u001b[0;34m,\u001b[0m \u001b[0mantialised\u001b[0m\u001b[0;34m=\u001b[0m\u001b[0;32mTrue\u001b[0m\u001b[0;34m)\u001b[0m\u001b[0;34m\u001b[0m\u001b[0;34m\u001b[0m\u001b[0m\n\u001b[0m\u001b[1;32m     52\u001b[0m \u001b[0;34m\u001b[0m\u001b[0m\n\u001b[1;32m     53\u001b[0m \u001b[0;31m#Customizando eixo Z\u001b[0m\u001b[0;34m\u001b[0m\u001b[0;34m\u001b[0m\u001b[0;34m\u001b[0m\u001b[0m\n",
      "\u001b[0;32m~/opt/anaconda3/lib/python3.8/site-packages/mpl_toolkits/mplot3d/axes3d.py\u001b[0m in \u001b[0;36mplot_surface\u001b[0;34m(self, X, Y, Z, norm, vmin, vmax, lightsource, *args, **kwargs)\u001b[0m\n\u001b[1;32m   1554\u001b[0m \u001b[0;34m\u001b[0m\u001b[0m\n\u001b[1;32m   1555\u001b[0m         \u001b[0;32mif\u001b[0m \u001b[0mZ\u001b[0m\u001b[0;34m.\u001b[0m\u001b[0mndim\u001b[0m \u001b[0;34m!=\u001b[0m \u001b[0;36m2\u001b[0m\u001b[0;34m:\u001b[0m\u001b[0;34m\u001b[0m\u001b[0;34m\u001b[0m\u001b[0m\n\u001b[0;32m-> 1556\u001b[0;31m             \u001b[0;32mraise\u001b[0m \u001b[0mValueError\u001b[0m\u001b[0;34m(\u001b[0m\u001b[0;34m\"Argument Z must be 2-dimensional.\"\u001b[0m\u001b[0;34m)\u001b[0m\u001b[0;34m\u001b[0m\u001b[0;34m\u001b[0m\u001b[0m\n\u001b[0m\u001b[1;32m   1557\u001b[0m         \u001b[0;32mif\u001b[0m \u001b[0mnp\u001b[0m\u001b[0;34m.\u001b[0m\u001b[0many\u001b[0m\u001b[0;34m(\u001b[0m\u001b[0mnp\u001b[0m\u001b[0;34m.\u001b[0m\u001b[0misnan\u001b[0m\u001b[0;34m(\u001b[0m\u001b[0mZ\u001b[0m\u001b[0;34m)\u001b[0m\u001b[0;34m)\u001b[0m\u001b[0;34m:\u001b[0m\u001b[0;34m\u001b[0m\u001b[0;34m\u001b[0m\u001b[0m\n\u001b[1;32m   1558\u001b[0m             cbook._warn_external(\n",
      "\u001b[0;31mValueError\u001b[0m: Argument Z must be 2-dimensional."
     ]
    }
   ],
   "source": [
    "fig = plt.figure()\n",
    "ax = fig.gca(projection = \"3d\")\n",
    "\n",
    "for K in lista_beta:\n",
    "    for M in lista_alpha:\n",
    "        CI = [ -L*cos , L*sen + 0.005, 0 , 0 ]\n",
    "        lista_ymax_3 = []\n",
    "        lista_t_ymax_3 = []\n",
    "        tfinal_3 = 0\n",
    "        for i in range(50):\n",
    "\n",
    "            if i%2 == 0:\n",
    "\n",
    "                solucao = solve_ivp( modelo1 , t_span , CI , events = cond_parada , t_eval = lista_t, args = (M,) )\n",
    "\n",
    "                lista_x = solucao.y[ 0 , : ]\n",
    "                lista_y = solucao.y[ 1 , : ]\n",
    "                lista_vx = solucao.y[ 2 , : ]\n",
    "\n",
    "                lista_ymax_3.append(max(lista_y))\n",
    "                lista_t_ymax_3.append(encontra_t_max( solucao.t , lista_y ) + tfinal_3)\n",
    "\n",
    "                tfinal_3 = tfinal_2 + solucao.t[-1]\n",
    "\n",
    "                CI = [ 1e-4 , 0 , K * lista_vx[-1] , 0 ]\n",
    "\n",
    "            else:\n",
    "\n",
    "                solucao = solve_ivp( modelo1 , t_span , CI , events = cond_parada , t_eval = lista_t, args = (M,) )\n",
    "\n",
    "                lista_x = solucao.y[ 0 , : ] + D\n",
    "                lista_y = solucao.y[ 1 , : ]\n",
    "                lista_vx = solucao.y[ 2 , : ]\n",
    "\n",
    "                lista_ymax_3.append(max(lista_y))\n",
    "                lista_t_ymax_3.append(encontra_t_max( solucao.t , lista_y ) + tfinal_3)\n",
    "\n",
    "                tfinal_3 = tfinal_3 + solucao.t[-1]\n",
    "\n",
    "                CI = [ -1e-4 , 0 , K * lista_vx[-1] , 0 ]\n",
    "\n",
    "\n",
    "        y1 = []\n",
    "        for x in lista_ymax_2:\n",
    "            y1.append(x - d)\n",
    "        \n",
    "X,Y = np.meshgrid(lista_alpha,lista_beta)\n",
    "Z = np.array (y1)\n",
    "\n",
    "#Plot - Surperficie\n",
    "surf = ax.plot_surface(X,Y,Z,cmap = cm.coolwarm, linewidth = 0, antialised=True)\n",
    "\n",
    "#Customizando eixo Z\n",
    "ax.set_zlim(5, 5)\n",
    "ax.zaxis.set_major_locator(LinearLocator(10))\n",
    "ax.zaxis.set_major_formatter(FormatStrFormatter('%.02f'))\n",
    "\n",
    "\n",
    "\n",
    "# Add a color bar which maps values to colors.\n",
    "fig.colorbar(surf, shrink=0.5, aspect=5)\n",
    "\n",
    "ax.set_xlabel('d1')\n",
    "ax.set_ylabel('d2')\n",
    "ax.set_zlabel('Máximo de T2')\n",
    "\n",
    "plt.show()\n"
   ]
  },
  {
   "cell_type": "code",
   "execution_count": null,
   "metadata": {},
   "outputs": [],
   "source": []
  },
  {
   "cell_type": "code",
   "execution_count": null,
   "metadata": {},
   "outputs": [],
   "source": []
  }
 ],
 "metadata": {
  "kernelspec": {
   "display_name": "Python 3",
   "language": "python",
   "name": "python3"
  },
  "language_info": {
   "codemirror_mode": {
    "name": "ipython",
    "version": 3
   },
   "file_extension": ".py",
   "mimetype": "text/x-python",
   "name": "python",
   "nbconvert_exporter": "python",
   "pygments_lexer": "ipython3",
   "version": "3.8.5"
  }
 },
 "nbformat": 4,
 "nbformat_minor": 4
}
