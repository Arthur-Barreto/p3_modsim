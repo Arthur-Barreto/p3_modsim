{
 "cells": [
  {
   "cell_type": "markdown",
   "metadata": {},
   "source": [
    "# Insper - Modelagem e Simulação do Mundo Físico\n",
    "\n",
    "## Atividade - Implementando um gráfico conclusivo em 3D ##"
   ]
  },
  {
   "cell_type": "markdown",
   "metadata": {},
   "source": [
    "**0) Bibliotecas**\n",
    "\n",
    "Como você já deve saber, os códigos compilados no Jupyter Notebook rodam um na sequência do outro. Se você declara uma variável no começo, pode utilizar essa mesma variável mais adiante.\n",
    "\n",
    "Dado isso, vamos já importar todas as bibliotecas que serão utilizadas nessa atividade, assim não precisamos ficar importando elas novamente. Para tal, basta rodar o código abaixo antes de ir para o próximo item."
   ]
  },
  {
   "cell_type": "code",
   "execution_count": 1,
   "metadata": {},
   "outputs": [],
   "source": [
    "# Importa bibliotecas necessárias\n",
    "from scipy.integrate import odeint\n",
    "import numpy as np\n",
    "import matplotlib.pyplot as plt"
   ]
  },
  {
   "cell_type": "markdown",
   "metadata": {},
   "source": [
    "**1) Caso 1 (1ª iteração)**\n",
    "\n",
    "Em aula, encontramos as equações diferenciais que representam um modelo de dois tanques:\n",
    "\n",
    "<img src=\"modelo1.png\" width=960> "
   ]
  },
  {
   "cell_type": "markdown",
   "metadata": {},
   "source": [
    "**1a) Modelo**\n",
    "\n",
    "Implemente uma função denominada ```modelo``` que recebe uma lista com os estoques $x = [T_1 \\quad T_2]$ e o instante de tempo $t$ e retorne uma lista com as taxas de variação dos estoques $\\frac{dx}{dt} = [\\frac{dT_1}{dt} \\quad \\frac{dT_1}{dt}]$. Mesmo que sua função não utilize a variável $t$, ela é obrigatória para o correto funcionamento da função ```odeint```."
   ]
  },
  {
   "cell_type": "code",
   "execution_count": 2,
   "metadata": {},
   "outputs": [],
   "source": [
    "# Implemente aqui seu código do item 1a\n",
    "\n",
    "# Implementa equações diferenciais do modelo\n",
    "def modelo(x, t, alpha, beta):\n",
    "    S = x[0]\n",
    "    I = x[1]\n",
    "    dSdt = -alpha*S*I\n",
    "    dIdt = alpha*S*I-beta*I\n",
    "    dxdt = [dSdt, dIdt]\n",
    "    return dxdt"
   ]
  },
  {
   "cell_type": "markdown",
   "metadata": {},
   "source": [
    "**1b) Resolução numérica**\n",
    "\n",
    "Agora que você implementou a função ```modelo```, calcule uma lista com uma lista de valores $[[T_1(0) \\quad T_1(t_1) \\quad \\cdots \\quad T_1(t_n)]$,$[T_2(0) \\quad T_2(t_1) \\quad \\cdots \\quad T_2(t_n)]]$ utilizando a função ```odeint```. Para isso, você vai precisar de:\n",
    "\n",
    "- Uma lista com as condições iniciais $T_1(0) = 300$kg e $T_2(0) = 0$kg\n",
    "- Uma lista de tempo $[0 \\quad t_1 \\quad \\cdots \\quad t_n]$ com $\\Delta t$ bem pequeno (use $\\Delta t=10^{-3}s$ em uma lista de tempo de $0$ a $200$s)"
   ]
  },
  {
   "cell_type": "markdown",
   "metadata": {},
   "source": [
    "**1c) Gráfico**\n",
    "\n",
    "Por fim, plote um gráfico de $T_1(t)$ e $T_2(t)$ por $t$ (utilize o mesmo par de eixos). Não se esqueça de que a estrutura de dados da solução do `odeint` é uma matriz (um \"array\"), e por isso precisamos usar um caractere de separação (um \"split\"). Isso se faz com o código `[:,0]`."
   ]
  },
  {
   "cell_type": "code",
   "execution_count": 3,
   "metadata": {},
   "outputs": [
    {
     "data": {
      "image/png": "[encoded data removed]",
      "text/plain": [
       "<Figure size 432x288 with 1 Axes>"
      ]
     },
     "metadata": {
      "needs_background": "light"
     },
     "output_type": "display_data"
    }
   ],
   "source": [
    "# Implemente aqui seu código do item 1c\n",
    "\n",
    "# Lista de tempo\n",
    "dt = 1\n",
    "T = np.arange(0,600,dt)\n",
    "\n",
    "x_0=[1, 1e-4]\n",
    "\n",
    "# Função odeint\n",
    "X = odeint(modelo,x_0,T, args=(0.5, 0.08))\n",
    "S = X[:,0]\n",
    "I = X[:,1]\n",
    "\n",
    "# Plota resultados\n",
    "plt.plot(T,S,label='Susceptíveis')\n",
    "plt.plot(T,I,label='Infectadas')\n",
    "plt.xlabel('Tempo (horas)')\n",
    "plt.ylabel('% de bactérias')\n",
    "plt.legend()\n",
    "plt.grid(True)\n",
    "plt.show()"
   ]
  },
  {
   "cell_type": "code",
   "execution_count": 4,
   "metadata": {},
   "outputs": [],
   "source": [
    "def QuandoMaximo(lista, lista_tempo):\n",
    "    indice=0\n",
    "    for i in range(len(lista)):\n",
    "        if lista[i]>=max(lista)-1e-6:\n",
    "            indice=i\n",
    "            break\n",
    "    return lista_tempo[indice]\n",
    "    "
   ]
  },
  {
   "cell_type": "code",
   "execution_count": 5,
   "metadata": {},
   "outputs": [
    {
     "name": "stdout",
     "output_type": "stream",
     "text": [
      "50 50 50\n"
     ]
    }
   ],
   "source": [
    "# This import registers the 3D projection, but is otherwise unused.\n",
    "from mpl_toolkits.mplot3d import Axes3D  # noqa: F401 unused import\n",
    "from matplotlib import cm\n",
    "from matplotlib.ticker import LinearLocator, FormatStrFormatter\n",
    "import numpy as np\n",
    "\n",
    "%matplotlib qt5\n",
    "\n",
    "fig = plt.figure()\n",
    "ax = fig.gca(projection='3d')\n",
    "\n",
    "lista_alpha=np.linspace(0.1,5,50)\n",
    "lista_beta=np.linspace(0.1,5,50)\n",
    "\n",
    "ListaMaximo = []\n",
    "\n",
    "for alpha in lista_alpha:\n",
    "    lista_linhas=[]\n",
    "    for beta in lista_beta:          \n",
    "        x = odeint(modelo, x_0, T, args=(alpha, beta))\n",
    "        I = list(x[:,1])        \n",
    "        #lista_linhas.append(T[I.index(max(I))])\n",
    "        lista_linhas.append(max(I))\n",
    "    ListaMaximo.append(lista_linhas)\n",
    "\n",
    "        \n",
    "X,Y=np.meshgrid(lista_alpha,lista_beta)  \n",
    "\n",
    "Z=np.array(ListaMaximo)\n",
    "\n",
    "print(len(X), len(Y), len(Z))\n",
    "\n",
    "# Plot the surface.\n",
    "surf = ax.plot_surface(X, Y, Z, cmap=cm.coolwarm, linewidth=0, antialiased=True)\n",
    "\n",
    "# Customize the z axis.\n",
    "ax.set_zlim(-1.01, 1.01)\n",
    "ax.zaxis.set_major_locator(LinearLocator(10))\n",
    "ax.zaxis.set_major_formatter(FormatStrFormatter('%.02f'))\n",
    "\n",
    "# Add a color bar which maps values to colors.\n",
    "fig.colorbar(surf, shrink=0.5, aspect=5)\n",
    "\n",
    "ax.set_xlabel('d1')\n",
    "ax.set_ylabel('d2')\n",
    "ax.set_zlabel('Máximo de T2')\n",
    "\n",
    "plt.show()"
   ]
  },
  {
   "cell_type": "code",
   "execution_count": 6,
   "metadata": {},
   "outputs": [],
   "source": [
    "# Basic contour plot\n",
    "fig, ax = plt.subplots()\n",
    "ax.set_title(\"Pico de infectados\")\n",
    "levels = np.linspace(0,1,100)\n",
    "CS = ax.contourf(X, Y, Z, levels, cmap=cm.coolwarm)\n",
    "fig.colorbar(surf, shrink=0.5, aspect=5)\n",
    "ax.set_xlabel('alpha')\n",
    "ax.set_ylabel('beta')\n",
    "plt.show()\n",
    "\n"
   ]
  },
  {
   "cell_type": "raw",
   "metadata": {},
   "source": []
  }
 ],
 "metadata": {
  "kernelspec": {
   "display_name": "Python 3",
   "language": "python",
   "name": "python3"
  },
  "language_info": {
   "codemirror_mode": {
    "name": "ipython",
    "version": 3
   },
   "file_extension": ".py",
   "mimetype": "text/x-python",
   "name": "python",
   "nbconvert_exporter": "python",
   "pygments_lexer": "ipython3",
   "version": "3.8.5"
  }
 },
 "nbformat": 4,
 "nbformat_minor": 4
}
