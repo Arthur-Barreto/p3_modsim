{
 "cells": [
  {
   "cell_type": "markdown",
   "metadata": {},
   "source": [
    "# Pêndulo de Newton\n",
    "\n",
    "*Modelagem e Simulação do Mundo Físico*\n",
    "\n",
    "Grupo: Antônio Amaral, Arthur Barreto, Ana Laiz Farias, Luan Cintra"
   ]
  },
  {
   "cell_type": "markdown",
   "metadata": {},
   "source": [
    "*#Importando Bibliotecas*"
   ]
  },
  {
   "cell_type": "code",
   "execution_count": 71,
   "metadata": {},
   "outputs": [],
   "source": [
    "#Numpy\n",
    "import numpy as np\n",
    "#MatPlotLib\n",
    "import matplotlib.pyplot as plt\n",
    "#Math\n",
    "from math import *\n",
    "#Solve_IVP\n",
    "from scipy.integrate import solve_ivp"
   ]
  },
  {
   "cell_type": "markdown",
   "metadata": {},
   "source": [
    "*#Medidas Padrões*"
   ]
  },
  {
   "cell_type": "code",
   "execution_count": 72,
   "metadata": {},
   "outputs": [],
   "source": [
    "L = 0.06\n",
    "g = 10\n",
    "m = 0.0064\n",
    "D = 0.04\n",
    "K = 0.92\n",
    "r = 5e-4"
   ]
  },
  {
   "cell_type": "markdown",
   "metadata": {},
   "source": [
    "*#Modelo*"
   ]
  },
  {
   "cell_type": "code",
   "execution_count": 73,
   "metadata": {},
   "outputs": [],
   "source": [
    "def modelo(t,lista):\n",
    "    x = lista[0]\n",
    "    y = lista[1]\n",
    "    vx = lista[2]\n",
    "    vy = lista[3]\n",
    "    v = sqrt( vx**2 + vy**2 )\n",
    "    cosseno = ( L - y ) / L\n",
    "    seno = - x / L\n",
    "    T = m * g * cosseno + m * v**2 / L\n",
    "    dxdt = vx\n",
    "    dydt = vy\n",
    "    dvxdt = T / m * seno\n",
    "    dvydt = - g + T / m * cosseno\n",
    "    \n",
    "    return [ dxdt , dydt , dvxdt , dvydt ]\n",
    "    \n",
    "def cond_parada(t, lista):\n",
    "    return lista[0]\n",
    "\n",
    "cond_parada.terminal = True\n",
    "\n",
    "def encontra_t_max(lista_t,lista_y):\n",
    "    ymax = lista_y[0]\n",
    "    tmax = 0\n",
    "    for i in range(len(lista_t)):\n",
    "        if lista_y[i]>ymax:\n",
    "            ymax = lista_y[i]\n",
    "            tmax = lista_t[i]\n",
    "    return tmax"
   ]
  },
  {
   "cell_type": "markdown",
   "metadata": {},
   "source": [
    "*#Calculos*"
   ]
  },
  {
   "cell_type": "code",
   "execution_count": 74,
   "metadata": {},
   "outputs": [],
   "source": [
    "L = 0.06 #Comprimento de L\n",
    "x_0 = -7.344e-2 #X Inicial\n",
    "y_0 = 2.725e-2 #Y Inicial\n",
    "\n",
    "sen = y_0/L #Calculando Seno\n",
    "cos = sqrt(1 - sen**2) #Calculando Cosseno"
   ]
  },
  {
   "cell_type": "markdown",
   "metadata": {},
   "source": [
    "*#Testando Execução Bilateral*"
   ]
  },
  {
   "cell_type": "code",
   "execution_count": 75,
   "metadata": {},
   "outputs": [
    {
     "data": {
      "image/png": "[encoded data removed]",
      "text/plain": [
       "<Figure size 432x288 with 1 Axes>"
      ]
     },
     "metadata": {
      "needs_background": "light"
     },
     "output_type": "display_data"
    }
   ],
   "source": [
    "tf = 4 #Tempo Final\n",
    "dt = 1e-3 #Delta Tempo\n",
    "t_span = ( 0 , tf )\n",
    "lista_t = np.arange( 0, tf, dt)\n",
    "\n",
    "CI = [ -L*cos, L*sen+0.005 , 0 , 0 ] #Condições Iniciais\n",
    "\n",
    "solucao = solve_ivp( modelo , t_span , CI , events = cond_parada , t_eval = lista_t )\n",
    "\n",
    "lista_x = solucao.y[ 0 , : ] #X\n",
    "lista_y = solucao.y[ 1 , : ] #Y\n",
    "lista_vx = solucao.y[ 2 , : ] #VX\n",
    "\n",
    "plt.plot( lista_x , lista_y , 'r')\n",
    "\n",
    "CI = [ 1e-4 , 0 , K * lista_vx[-1] , 0 ]\n",
    "\n",
    "solucao = solve_ivp( modelo , t_span , CI , events = cond_parada , t_eval = lista_t )\n",
    "\n",
    "lista_x = solucao.y[ 0 , : ] + D  # D FOI SOMADO PARA REPRESENTAR A POSIÇÃO DA BOLINHA DA DIREITA\n",
    "lista_y = solucao.y[ 1 , : ]\n",
    "\n",
    "plt.plot( lista_x , lista_y, 'b')\n",
    "plt.grid()\n",
    "plt.title(\"Execução Bilateral\")\n",
    "plt.xlabel(\"Espaço (m)\")\n",
    "plt.ylabel(\"Altura (m)\")\n",
    "plt.axis(\"equal\")\n",
    "plt.savefig('gráfico0.png', format='png',dpi = 2400)\n",
    "plt.show()"
   ]
  },
  {
   "cell_type": "markdown",
   "metadata": {},
   "source": [
    "### Implementação do Modelo com Perda de energia"
   ]
  },
  {
   "cell_type": "markdown",
   "metadata": {},
   "source": [
    "*#Introduzindo Listas*"
   ]
  },
  {
   "cell_type": "code",
   "execution_count": 76,
   "metadata": {},
   "outputs": [],
   "source": [
    "lista_ymax = []\n",
    "lista_t_ymax = []"
   ]
  },
  {
   "cell_type": "markdown",
   "metadata": {},
   "source": [
    "*#Variaveis*"
   ]
  },
  {
   "cell_type": "code",
   "execution_count": 77,
   "metadata": {},
   "outputs": [],
   "source": [
    "tfinal = 0"
   ]
  },
  {
   "cell_type": "markdown",
   "metadata": {},
   "source": [
    "*#Condições Iniciais*"
   ]
  },
  {
   "cell_type": "code",
   "execution_count": 78,
   "metadata": {},
   "outputs": [],
   "source": [
    "CI = [ -L*cos , L*sen+0.005 , 0 , 0 ]"
   ]
  },
  {
   "cell_type": "markdown",
   "metadata": {},
   "source": [
    "*#Loop Principal*"
   ]
  },
  {
   "cell_type": "code",
   "execution_count": 79,
   "metadata": {},
   "outputs": [
    {
     "data": {
      "image/png": "[encoded data removed]",
      "text/plain": [
       "<Figure size 432x288 with 1 Axes>"
      ]
     },
     "metadata": {
      "needs_background": "light"
     },
     "output_type": "display_data"
    },
    {
     "data": {
      "image/png": "[encoded data removed]",
      "text/plain": [
       "<Figure size 432x288 with 1 Axes>"
      ]
     },
     "metadata": {
      "needs_background": "light"
     },
     "output_type": "display_data"
    }
   ],
   "source": [
    "for i in range(50):\n",
    "\n",
    "    if i%2 == 0 :\n",
    "\n",
    "        solucao = solve_ivp( modelo , t_span , CI , events = cond_parada , t_eval = lista_t )\n",
    "\n",
    "        lista_x = solucao.y[ 0 , : ]\n",
    "        lista_y = solucao.y[ 1 , : ]\n",
    "        lista_vx = solucao.y[ 2 , : ]\n",
    "\n",
    "        lista_ymax.append(max(lista_y))\n",
    "        lista_t_ymax.append(encontra_t_max( solucao.t , lista_y ) + tfinal)\n",
    "\n",
    "        tfinal = tfinal + solucao.t[-1]\n",
    "        \n",
    "        plt.plot( lista_x , lista_y ) \n",
    "\n",
    "        CI = [ 1e-4 , 0 , K * lista_vx[-1] , 0 ]\n",
    "        \n",
    "    else:\n",
    "    \n",
    "        solucao = solve_ivp( modelo , t_span , CI , events = cond_parada , t_eval = lista_t )\n",
    "\n",
    "        lista_x = solucao.y[ 0 , : ] + D\n",
    "        lista_y = solucao.y[ 1 , : ]\n",
    "        lista_vx = solucao.y[ 2 , : ]\n",
    "\n",
    "        lista_ymax.append(max(lista_y))\n",
    "        lista_t_ymax.append(encontra_t_max( solucao.t , lista_y ) + tfinal)\n",
    "\n",
    "        tfinal = tfinal + solucao.t[-1]\n",
    "        \n",
    "        plt.plot( lista_x , lista_y ) \n",
    "        \n",
    "        CI = [ -1e-4 , 0 , K * lista_vx[-1] , 0 ]\n",
    "\n",
    "#Plot Gráfico\n",
    "#Movimento do Pendulo\n",
    "plt.title(\"Movimento do pendulo\")\n",
    "plt.xlabel(\"Espaço (m)\")\n",
    "plt.ylabel(\"Altura (m)\")\n",
    "plt.grid(True)\n",
    "plt.savefig('gráfico1.png',format='png',dpi = 1200)\n",
    "plt.show() \n",
    "\n",
    "#Altura Máxima em Função do Tempo\n",
    "plt.plot( lista_t_ymax , lista_ymax, 'r' )\n",
    "plt.title(\"Altura máxima em função do tempo\")\n",
    "plt.xlabel(\"Tempo (s)\")\n",
    "plt.ylabel(\"Altura (m)\")\n",
    "plt.grid(True)\n",
    "plt.savefig('gráfico2.png',format='png',dpi = 2400)\n",
    "plt.show() \n",
    "\n"
   ]
  },
  {
   "cell_type": "markdown",
   "metadata": {},
   "source": [
    "### Validação do Modelo"
   ]
  },
  {
   "cell_type": "markdown",
   "metadata": {},
   "source": [
    "*#Importações*"
   ]
  },
  {
   "cell_type": "code",
   "execution_count": 80,
   "metadata": {},
   "outputs": [],
   "source": [
    "import pandas"
   ]
  },
  {
   "cell_type": "markdown",
   "metadata": {},
   "source": [
    "*#Recebendo e Definindo Medidas Experimentais*"
   ]
  },
  {
   "cell_type": "code",
   "execution_count": 81,
   "metadata": {},
   "outputs": [],
   "source": [
    "colunas = [\"t\",\"x\",\"y\"]\n",
    "datae = pandas.read_csv(\"Dados_MassA.csv\",names = colunas)\n",
    "datad = pandas.read_csv(\"Dados_MassB.csv\",names = colunas)\n",
    "\n",
    "te = datae.t.tolist()\n",
    "# ajustar a origem no eixo do tempo\n",
    "\n",
    "t_e = []\n",
    "for t in te:\n",
    "    t_e.append(t - 8.133)\n",
    "    \n",
    "xe = datae.x.tolist()\n",
    "ye = datae.y.tolist()\n",
    "# VAMOS CALCULAR A ALTURA MÁXIMA DE CADA COLISÃO\n",
    "y_e_max = [ye[0],ye[33],ye[66],ye[98],ye[128],ye[161],ye[193],ye[224],ye[258],ye[289]]  \n",
    "t_e_ok = [t_e[0],t_e[33],t_e[66],t_e[98],t_e[128],t_e[161],t_e[193],t_e[224],t_e[258],t_e[289]]\n",
    "\n",
    "# ajustar a origem no eixo do tempo para o lado direito\n",
    "td = datad.t.tolist()\n",
    "\n",
    "t_d = []\n",
    "for t in td:\n",
    "    t_d.append(t - 8.275)\n",
    "        \n",
    "xd = datad.x.tolist()\n",
    "yd = datad.y.tolist()\n",
    "y_d_max = [yd[18],yd[50],yd[82],yd[115],yd[147],yd[179],yd[210],yd[240],yd[273],yd[305]]\n",
    "t_d_ok = [t_d[18],t_d[50],t_d[82],t_d[115],t_d[147],t_d[179],t_d[210],t_d[240],t_d[273],t_d[305]]\n",
    "\n",
    "# print(ye[0])\n",
    "# print(lista_ymax[0])\n",
    "d = lista_ymax[0] - ye[0]\n",
    "#print(\"Devemos deslocar {} no eixo\".format(d))\n",
    "y = []\n",
    "for x in lista_ymax:\n",
    "    y.append(x - d)\n"
   ]
  },
  {
   "cell_type": "markdown",
   "metadata": {},
   "source": [
    "*#Plotando Gráficos*"
   ]
  },
  {
   "cell_type": "code",
   "execution_count": 82,
   "metadata": {},
   "outputs": [
    {
     "data": {
      "image/png": "[encoded data removed]",
      "text/plain": [
       "<Figure size 432x288 with 1 Axes>"
      ]
     },
     "metadata": {
      "needs_background": "light"
     },
     "output_type": "display_data"
    }
   ],
   "source": [
    "plt.title(\"Resultado da primeira iteração\")\n",
    "plt.plot(t_e_ok,y_e_max,\"mo\", label = \"Bola Esquerda\")\n",
    "plt.plot(t_d_ok,y_d_max,\"bo\", label = \"Bola Direita\")\n",
    "plt.plot(lista_t_ymax , y, 'r', label = \"Teórico/k = 0,92\")\n",
    "plt.legend()\n",
    "plt.xlabel(\"Tempo (s)\")\n",
    "plt.ylabel(\"Altura máxima (m)\")\n",
    "plt.grid(True)\n",
    "plt.savefig('gráfico3.png',format='png',dpi = 2400)\n",
    "plt.show()"
   ]
  },
  {
   "cell_type": "markdown",
   "metadata": {},
   "source": [
    "#### Verificando Qual a Melhor Constante de Perda (K)"
   ]
  },
  {
   "cell_type": "markdown",
   "metadata": {},
   "source": [
    "*#Criando Lista de K*"
   ]
  },
  {
   "cell_type": "code",
   "execution_count": 83,
   "metadata": {},
   "outputs": [],
   "source": [
    "lisK = np.arange(0.96,0.965,0.001)"
   ]
  },
  {
   "cell_type": "markdown",
   "metadata": {},
   "source": [
    "*#Loop Principal*"
   ]
  },
  {
   "cell_type": "code",
   "execution_count": 84,
   "metadata": {},
   "outputs": [
    {
     "data": {
      "image/png": "[encoded data removed]",
      "text/plain": [
       "<Figure size 432x288 with 1 Axes>"
      ]
     },
     "metadata": {
      "needs_background": "light"
     },
     "output_type": "display_data"
    }
   ],
   "source": [
    "for K in lisK:\n",
    "    \n",
    "    CI = [ -L*cos , L*sen + 0.005, 0 , 0 ]\n",
    "    \n",
    "    lista_ymax_1 = []\n",
    "    lista_t_ymax_1 = []\n",
    "    tfinal_1 = 0\n",
    "\n",
    "    for i in range(50):\n",
    "\n",
    "        if i%2 == 0 :\n",
    "\n",
    "            solucao = solve_ivp( modelo , t_span , CI , events = cond_parada , t_eval = lista_t )\n",
    "\n",
    "            lista_x = solucao.y[ 0 , : ]\n",
    "            lista_y = solucao.y[ 1 , : ]\n",
    "            lista_vx = solucao.y[ 2 , : ]\n",
    "\n",
    "            lista_ymax_1.append(max(lista_y))\n",
    "            lista_t_ymax_1.append(encontra_t_max( solucao.t , lista_y ) + tfinal_1)\n",
    "\n",
    "            tfinal_1 = tfinal_1 + solucao.t[-1]\n",
    "\n",
    "            #plt.plot( lista_x , lista_y ) \n",
    "\n",
    "            CI = [ 1e-4 , 0 , K * lista_vx[-1] , 0 ]\n",
    "\n",
    "        else:\n",
    "\n",
    "            solucao = solve_ivp( modelo , t_span , CI , events = cond_parada , t_eval = lista_t )\n",
    "\n",
    "            lista_x = solucao.y[ 0 , : ] + D\n",
    "            lista_y = solucao.y[ 1 , : ]\n",
    "            lista_vx = solucao.y[ 2 , : ]\n",
    "\n",
    "            lista_ymax_1.append(max(lista_y))\n",
    "            lista_t_ymax_1.append(encontra_t_max( solucao.t , lista_y ) + tfinal_1)\n",
    "\n",
    "            tfinal_1 = tfinal_1 + solucao.t[-1]\n",
    "\n",
    "            #plt.plot( lista_x , lista_y ) \n",
    "\n",
    "            CI = [ -1e-4 , 0 , K * lista_vx[-1] , 0 ]\n",
    "            \n",
    "    # agora plotar os graficos corretos\n",
    "    \n",
    "    y = []\n",
    "    for x in lista_ymax_1:\n",
    "        y.append(x - d)\n",
    "    \n",
    "    plt.plot( lista_t_ymax_1 , y, label = \"K = {}\".format(K))\n",
    "\n",
    "#Plot Gráfico - Variação de K\n",
    "plt.plot(t_e_ok,y_e_max,\"mo\", label = \"Bola Esquerda\")\n",
    "plt.plot(t_d_ok,y_d_max,\"bo\", label = \"Bola Direita\") \n",
    "plt.title(\"Variando o K\")\n",
    "plt.xlabel(\"Tempo (s)\")\n",
    "plt.ylabel(\"Altura máxima (m)\")\n",
    "plt.grid(True)\n",
    "plt.legend()\n",
    "plt.savefig('gráfico4.png',format='png',dpi = 2400)\n",
    "plt.show()"
   ]
  },
  {
   "cell_type": "markdown",
   "metadata": {},
   "source": [
    "#### Criando Modelo com K Calibrado"
   ]
  },
  {
   "cell_type": "markdown",
   "metadata": {},
   "source": [
    "*#Listas*"
   ]
  },
  {
   "cell_type": "code",
   "execution_count": 85,
   "metadata": {},
   "outputs": [],
   "source": [
    "lista_ymax_2 = []\n",
    "lista_t_ymax_2 = []\n",
    "y1 = []"
   ]
  },
  {
   "cell_type": "markdown",
   "metadata": {},
   "source": [
    "*#Condições Iniciais*"
   ]
  },
  {
   "cell_type": "code",
   "execution_count": 86,
   "metadata": {},
   "outputs": [],
   "source": [
    "CI = [ -L*cos , L*sen + 0.005, 0 , 0 ]"
   ]
  },
  {
   "cell_type": "markdown",
   "metadata": {},
   "source": [
    "*#Variaveis*"
   ]
  },
  {
   "cell_type": "code",
   "execution_count": 87,
   "metadata": {},
   "outputs": [],
   "source": [
    "tfinal_2 = 0\n",
    "K = 0.963"
   ]
  },
  {
   "cell_type": "markdown",
   "metadata": {},
   "source": [
    "*#Loop Principal*"
   ]
  },
  {
   "cell_type": "code",
   "execution_count": 88,
   "metadata": {},
   "outputs": [
    {
     "data": {
      "image/png": "[encoded data removed]",
      "text/plain": [
       "<Figure size 432x288 with 1 Axes>"
      ]
     },
     "metadata": {
      "needs_background": "light"
     },
     "output_type": "display_data"
    }
   ],
   "source": [
    "for i in range(50):\n",
    "\n",
    "    if i%2 == 0 :\n",
    "\n",
    "        solucao = solve_ivp( modelo , t_span , CI , events = cond_parada , t_eval = lista_t )\n",
    "\n",
    "        lista_x = solucao.y[ 0 , : ]\n",
    "        lista_y = solucao.y[ 1 , : ]\n",
    "        lista_vx = solucao.y[ 2 , : ]\n",
    "        \n",
    "        lista_ymax_2.append(max(lista_y))\n",
    "        lista_t_ymax_2.append(encontra_t_max( solucao.t , lista_y ) + tfinal_2)\n",
    "\n",
    "        tfinal_2 = tfinal_2 + solucao.t[-1]\n",
    "\n",
    "        #plt.plot( lista_x , lista_y ) \n",
    "\n",
    "        CI = [ 1e-4 , 0 , K * lista_vx[-1] , 0 ]\n",
    "\n",
    "    else:\n",
    "\n",
    "        solucao = solve_ivp( modelo , t_span , CI , events = cond_parada , t_eval = lista_t )\n",
    "\n",
    "        lista_x = solucao.y[ 0 , : ] + D\n",
    "        lista_y = solucao.y[ 1 , : ]\n",
    "        lista_vx = solucao.y[ 2 , : ]\n",
    "\n",
    "        lista_ymax_2.append(max(lista_y))\n",
    "        lista_t_ymax_2.append(encontra_t_max( solucao.t , lista_y ) + tfinal_2)\n",
    "\n",
    "        tfinal_2 = tfinal_2 + solucao.t[-1]\n",
    "\n",
    "        #plt.plot( lista_x , lista_y ) \n",
    "\n",
    "        CI = [ -1e-4 , 0 , K * lista_vx[-1] , 0 ]\n",
    "\n",
    "# agora plotar os graficos corretos\n",
    "\n",
    "\n",
    "for x in lista_ymax_2:\n",
    "    y1.append(x - d)\n",
    "\n",
    "        \n",
    "#print(lista_t_ymax_2)\n",
    "          \n",
    "plt.plot( lista_t_ymax_2 , y1, \"r\", label = \"K = {}\".format(K))\n",
    "plt.plot(t_e_ok,y_e_max,\"mo\", label = \"Bola Esquerda\")\n",
    "plt.plot(t_d_ok,y_d_max,\"bo\", label = \"Bola Direita\") \n",
    "plt.title(\"Validação do Modelo\")\n",
    "plt.xlabel(\"Tempo (s)\")\n",
    "plt.ylabel(\"Altura máxima (m)\")\n",
    "plt.grid(True)\n",
    "plt.legend()\n",
    "plt.savefig('gráfico5.png',format='png',dpi = 2400)\n",
    "plt.show() "
   ]
  },
  {
   "cell_type": "markdown",
   "metadata": {},
   "source": [
    "### Gráfico Conclusivo do Modelo"
   ]
  },
  {
   "cell_type": "markdown",
   "metadata": {},
   "source": [
    "## Modelo"
   ]
  },
  {
   "cell_type": "markdown",
   "metadata": {},
   "source": [
    "*Neste Modelo acrescentamos a opção de variar a massa das bolas do Pêndulo*"
   ]
  },
  {
   "cell_type": "code",
   "execution_count": 89,
   "metadata": {},
   "outputs": [],
   "source": [
    "def modelo1(t,lista,M):\n",
    "    x = lista[0]\n",
    "    y = lista[1]\n",
    "    vx = lista[2]\n",
    "    vy = lista[3]\n",
    "    v = sqrt( vx**2 + vy**2 )\n",
    "    cosseno = ( L - y ) / L\n",
    "    seno = - x / L\n",
    "    T = M * g * cosseno + M * v**2 / L\n",
    "    dxdt = vx\n",
    "    dydt = vy\n",
    "    dvxdt = T / (M * seno)\n",
    "    dvydt = - g + T / (M * cosseno)\n",
    "    Dxdt = [dxdt,dydt,dvxdt,dvydt]\n",
    "    return Dxdt\n",
    "def cond_parad(t, lista,M):\n",
    "    return lista[0]\n",
    "\n",
    "cond_parada.terminal = True"
   ]
  },
  {
   "cell_type": "code",
   "execution_count": 90,
   "metadata": {},
   "outputs": [
    {
     "name": "stdout",
     "output_type": "stream",
     "text": [
      "330\n"
     ]
    }
   ],
   "source": [
    "Lista_K = np.arange (0,0.99,3e-3)\n",
    "print(len(Lista_K))"
   ]
  },
  {
   "cell_type": "markdown",
   "metadata": {},
   "source": [
    "*#Loop Principal*"
   ]
  },
  {
   "cell_type": "code",
   "execution_count": 91,
   "metadata": {},
   "outputs": [
    {
     "data": {
      "image/png": "[encoded data removed]",
      "text/plain": [
       "<Figure size 432x288 with 1 Axes>"
      ]
     },
     "metadata": {
      "needs_background": "light"
     },
     "output_type": "display_data"
    },
    {
     "data": {
      "image/png": "[encoded data removed]",
      "text/plain": [
       "<Figure size 432x288 with 1 Axes>"
      ]
     },
     "metadata": {
      "needs_background": "light"
     },
     "output_type": "display_data"
    }
   ],
   "source": [
    "t_max = []\n",
    "y_max = []\n",
    "\n",
    "for K in Lista_K:\n",
    "    CI = [ -L*cos , L*sen + 0.005, 0 , 0 ]\n",
    "    \n",
    "    lista_ymax_1 = []\n",
    "    lista_t_ymax_1 = []\n",
    "    tfinal_1 = 0\n",
    "\n",
    "    for i in range(300):\n",
    "\n",
    "        if i%2 == 0 :\n",
    "\n",
    "            solucao = solve_ivp( modelo , t_span , CI , events = cond_parada , t_eval = lista_t )\n",
    "\n",
    "            lista_x = solucao.y[ 0 , : ]\n",
    "            lista_y = solucao.y[ 1 , : ]\n",
    "            lista_vx = solucao.y[ 2 , : ]\n",
    "\n",
    "            lista_ymax_1.append(max(lista_y))\n",
    "            lista_t_ymax_1.append(encontra_t_max( solucao.t , lista_y ) + tfinal_1)\n",
    "\n",
    "            tfinal_1 = tfinal_1 + solucao.t[-1]\n",
    "\n",
    "            #plt.plot( lista_x , lista_y ) \n",
    "\n",
    "            CI = [ 1e-4 , 0 , K * lista_vx[-1] , 0 ]\n",
    "           \n",
    "\n",
    "        else:\n",
    "\n",
    "            solucao = solve_ivp( modelo , t_span , CI , events = cond_parada , t_eval = lista_t )\n",
    "\n",
    "            lista_x = solucao.y[ 0 , : ] + D\n",
    "            lista_y = solucao.y[ 1 , : ]\n",
    "            lista_vx = solucao.y[ 2 , : ]\n",
    "            lista_ymax_1.append(max(lista_y))\n",
    "            lista_t_ymax_1.append(encontra_t_max( solucao.t , lista_y ) + tfinal_1)\n",
    "\n",
    "            tfinal_1 = tfinal_1 + solucao.t[-1]\n",
    "\n",
    "            #plt.plot( lista_x , lista_y ) \n",
    "\n",
    "            CI = [ -1e-4 , 0 , K * lista_vx[-1] , 0 ]\n",
    "            \n",
    "            \n",
    "            \n",
    "            \n",
    "    # agora plotar os graficos corretos\n",
    "    \n",
    "    y3 = []\n",
    "    for x in lista_ymax_1:\n",
    "        y3.append(x - d)\n",
    "    soma = 0\n",
    "\n",
    "    for e in y3:\n",
    "        if e <= 1e-3:\n",
    "            soma+=1\n",
    "            index = y3.index(e)\n",
    "            t_max.append(lista_t_ymax_1[index])\n",
    "            break\n",
    "    plt.plot(lista_t_ymax_1,y3)\n",
    "\n",
    "#Plot Gráfico - Variação de K\n",
    "plt.title(\"Variando o K\")\n",
    "plt.xlabel(\"Tempo (s)\")\n",
    "plt.ylabel(\"Altura máxima (m)\")\n",
    "plt.grid(True)\n",
    "plt.savefig('gráfico6.png',format='png',dpi = 2400)\n",
    "plt.show()\n",
    "\n",
    "plt.plot(Lista_K,t_max, \"ro\")\n",
    "plt.title(\"Gráfico Conclusivo\")\n",
    "plt.xlabel(\"K\")\n",
    "plt.ylabel(\"Tempo até parar (s)\")\n",
    "plt.grid(True)\n",
    "plt.savefig('gráfico7.png',format='png',dpi = 2400)\n",
    "plt.show()"
   ]
  },
  {
   "cell_type": "markdown",
   "metadata": {},
   "source": [
    "## Animação do modelo"
   ]
  },
  {
   "cell_type": "code",
   "execution_count": 85,
   "metadata": {},
   "outputs": [
    {
     "name": "stderr",
     "output_type": "stream",
     "text": [
      "<ipython-input-85-87f020e31ab5>:90: MatplotlibDeprecationWarning: Adding an axes using the same arguments as a previous axes currently reuses the earlier instance.  In a future version, a new instance will always be created and returned.  Meanwhile, this warning can be suppressed, and the future behavior ensured, by passing a unique label to each axes instance.\n",
      "  ax2 = fig2.add_subplot(111)\n"
     ]
    }
   ],
   "source": [
    "# vamos rodar a animação para k = 0.2, 0.4, 0.6, 0.8 e 1\n",
    "\n",
    "K_anim = [0.2,0.4,0.6,0.8,0.99]\n",
    "\n",
    "for K in K_anim:\n",
    "    # agora é rodar a solv_ivp\n",
    "    \n",
    "    CI = [ -L*cos , L*sen + 0.005, 0 , 0 ]\n",
    "    \n",
    "    for i in range(4):\n",
    "\n",
    "        if i%2 == 0:\n",
    "\n",
    "            solucao = solve_ivp( modelo , t_span , CI , events = cond_parada , t_eval = lista_t )\n",
    "\n",
    "\n",
    "            lista_x = solucao.y[ 0 , : ]\n",
    "            lista_y = solucao.y[ 1 , : ]\n",
    "            lista_vx = solucao.y[ 2 , : ]\n",
    "\n",
    "            if K == 0.2:\n",
    "                # k = 0,2\n",
    "                x1_e = lista_x\n",
    "                y1_e = lista_y\n",
    "            elif K == 0.4:\n",
    "                # k = 0,4\n",
    "                x2_e = lista_x\n",
    "                y2_e = lista_y\n",
    "            elif K == 0.6:\n",
    "                # k = 0,6\n",
    "                x3_e = lista_x\n",
    "                y3_e = lista_y\n",
    "            elif K == 0.8:\n",
    "                # k = 0,8\n",
    "                x4_e = lista_x\n",
    "                y4_e = lista_y\n",
    "\n",
    "            elif K == 0.99:\n",
    "                # k = 1\n",
    "                x5_e = lista_x\n",
    "                y5_e = lista_y\n",
    "\n",
    "            CI = [ 1e-4 , 0 , K * lista_vx[-1] , 0 ]\n",
    "\n",
    "        else:\n",
    "\n",
    "            solucao = solve_ivp( modelo , t_span , CI , events = cond_parada , t_eval = lista_t )\n",
    "\n",
    "            lista_x = solucao.y[ 0 , : ] + D\n",
    "            lista_y = solucao.y[ 1 , : ]\n",
    "            lista_vx = solucao.y[ 2 , : ]\n",
    "\n",
    "            if K == 0.2:\n",
    "                # k = 0,2\n",
    "                x1_d = lista_x\n",
    "                y1_d = lista_y\n",
    "\n",
    "            elif K == 0.4:\n",
    "                # k = 0,4\n",
    "                x2_d = lista_x\n",
    "                y2_d = lista_y\n",
    "            elif K == 0.6:\n",
    "                # k = 0,6\n",
    "                x3_d = lista_x\n",
    "                y3_d = lista_y\n",
    "            elif K == 0.8:\n",
    "                # k = 0,8\n",
    "                x4_d = lista_x\n",
    "                y4_d = lista_y\n",
    "            elif K == 0.99:\n",
    "                # k = 1\n",
    "                x5_d = lista_x\n",
    "                y5_d = lista_y\n",
    "                \n",
    "            CI = [ -1e-4 , 0 , K * lista_vx[-1] , 0 ]\n",
    "        \n",
    "#################### fim das listas da animação ###################\n",
    "\n",
    "# INSIRA AQUI SEU CÓDIGO PARA FAZER A ANIMAÇÃO\n",
    "%matplotlib qt5\n",
    "plt.close('all')\n",
    "get_ipython().magic('matplotlib qt5')\n",
    "import matplotlib.patches as patches\n",
    "from matplotlib import animation\n",
    "fig2 = plt.figure(figsize=(20,5))\n",
    "plt.title('Pêndulo de Newton')\n",
    "plt.xlabel('$x \\quad [m]$')\n",
    "plt.ylabel('$y \\quad [m]$')\n",
    "\n",
    "ax2 = fig2.add_subplot(111)\n",
    "\n",
    "ax2.set_xlim(-0.1, 0.1)\n",
    "ax2.set_ylim(-0.005,0.04)\n",
    "\n",
    "esfera_1_e = patches.Circle((0,0), r, fc='b')\n",
    "esfera_1_d = patches.Circle((D,0), r, fc='r')\n",
    "esfera_2_e = patches.Circle((0,0), r, fc='violet')\n",
    "esfera_2_d = patches.Circle((D,0), r, fc='bisque')\n",
    "esfera_3_e = patches.Circle((0,0), r, fc='m')\n",
    "esfera_3_d = patches.Circle((D,0), r, fc='silver')\n",
    "esfera_4_e = patches.Circle((0,0), r, fc='g')\n",
    "esfera_4_d = patches.Circle((D,0), r, fc='orange')\n",
    "esfera_5_e = patches.Circle((0,0), r, fc='gold')\n",
    "esfera_5_d = patches.Circle((D,0), r, fc='lime')\n",
    "\n",
    "#### teste para dobrar a lista ##########\n",
    "xe = [0]*131*2\n",
    "xd = [D]*131\n",
    "y = [0]*131*2\n",
    "\n",
    "\n",
    "def init2():\n",
    "    ax2.add_patch(esfera_1_e)\n",
    "    ax2.add_patch(esfera_2_e)\n",
    "    ax2.add_patch(esfera_3_e)\n",
    "    ax2.add_patch(esfera_4_e)\n",
    "    ax2.add_patch(esfera_5_e)\n",
    "    ax2.add_patch(esfera_1_d)\n",
    "    ax2.add_patch(esfera_2_d)\n",
    "    ax2.add_patch(esfera_3_d)\n",
    "    ax2.add_patch(esfera_4_d)\n",
    "    ax2.add_patch(esfera_5_d)\n",
    "    return None\n",
    "\n",
    "def animate2(i):\n",
    "    d = i - 131\n",
    "    def esquerda(i):\n",
    "        esfera_1_e.center = x1_e[i], y1_e[i]\n",
    "        esfera_2_e.center = x2_e[i], y2_e[i]\n",
    "        esfera_3_e.center = x3_e[i], y3_e[i]\n",
    "        esfera_4_e.center = x4_e[i], y4_e[i]\n",
    "        esfera_5_e.center = x5_e[i], y5_e[i]\n",
    "    def direita(d):\n",
    "        esfera_1_d.center = x1_d[d], y1_d[d]\n",
    "        esfera_2_d.center = x2_d[d], y2_d[d]\n",
    "        esfera_3_d.center = x3_d[d], y3_d[d]\n",
    "        esfera_4_d.center = x4_d[d], y4_d[d]\n",
    "        esfera_5_d.center = x5_d[d], y5_d[d]\n",
    "    def espera_E(i):\n",
    "        direita(i)\n",
    "        esfera_1_e.center = xe[i], y[i]\n",
    "        esfera_2_e.center = xe[i], y[i]\n",
    "        esfera_3_e.center = xe[i], y[i]\n",
    "        esfera_4_e.center = xe[i], y[i]\n",
    "        esfera_5_e.center = xe[i], y[i]\n",
    "        \n",
    "    def espera_D(i):\n",
    "        esquerda(i)\n",
    "        esfera_1_d.center = xd[i], y[i]\n",
    "        esfera_2_d.center = xd[i], y[i]\n",
    "        esfera_3_d.center = xd[i], y[i]\n",
    "        esfera_4_d.center = xd[i], y[i]\n",
    "        esfera_5_d.center = xd[i], y[i]\n",
    "    b = 0\n",
    "    while b <= 131*2:\n",
    "        espera_D(i)\n",
    "        espera_E(i)\n",
    "        b += 1\n",
    "\n",
    "    return None\n",
    "\n",
    "anim = animation.FuncAnimation(fig2, animate2, init_func=init2, frames=len(y5_d), interval=1, blit=False)\n",
    "    "
   ]
  },
  {
   "cell_type": "code",
   "execution_count": null,
   "metadata": {},
   "outputs": [],
   "source": []
  }
 ],
 "metadata": {
  "kernelspec": {
   "display_name": "Python 3",
   "language": "python",
   "name": "python3"
  },
  "language_info": {
   "codemirror_mode": {
    "name": "ipython",
    "version": 3
   },
   "file_extension": ".py",
   "mimetype": "text/x-python",
   "name": "python",
   "nbconvert_exporter": "python",
   "pygments_lexer": "ipython3",
   "version": "3.8.8"
  }
 },
 "nbformat": 4,
 "nbformat_minor": 4
}
