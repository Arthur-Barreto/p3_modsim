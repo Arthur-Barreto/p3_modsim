{
 "cells": [
  {
   "cell_type": "markdown",
   "metadata": {},
   "source": [
    "# Insper - Modelagem e Simulação do Mundo Físico\n",
    "\n",
    "## Projeto 3 - Newton's Candle"
   ]
  },
  {
   "cell_type": "markdown",
   "metadata": {},
   "source": [
    "### Inicialização\n",
    "Está é a etapa inicial do projeto, na qual estarão localizados todos as bibliotecas utilizadas no trabalho."
   ]
  },
  {
   "cell_type": "code",
   "execution_count": 15,
   "metadata": {},
   "outputs": [],
   "source": [
    "import numpy as np\n",
    "import matplotlib.pyplot as plt\n",
    "from math import *\n",
    "from scipy.integrate import odeint"
   ]
  },
  {
   "cell_type": "markdown",
   "metadata": {},
   "source": [
    "### Implementação do Modelo\n",
    "\n",
    "Nesta etapa se encontram-se 6 cláusulas de código, que formaram os parâmetros do Modelo, Modelo, Lista de tempo, condições iniciais, ODEINT e Plotagem do gráfico."
   ]
  },
  {
   "cell_type": "markdown",
   "metadata": {},
   "source": [
    "*Parâmetros do Modelo*\n"
   ]
  },
  {
   "cell_type": "code",
   "execution_count": 16,
   "metadata": {},
   "outputs": [],
   "source": [
    "l = 0.55 #compr. do fio em metros\n",
    "g = 9.8 #gravidade em m/s²\n",
    "m = 128e-3 # massa da bolihna em kg\n",
    "d = 0.1 #dist. entre os centros das bolinhas móveis, na parte mais baixa, dada em metros\n",
    "K = 0.85 #percentual que se mantém da energia a cada impacto\n"
   ]
  },
  {
   "cell_type": "markdown",
   "metadata": {},
   "source": [
    "*Modelo*"
   ]
  },
  {
   "cell_type": "code",
   "execution_count": 17,
   "metadata": {},
   "outputs": [],
   "source": [
    "def modelo(lista,t):\n",
    "    x = lista[0]\n",
    "    y = lista[1]\n",
    "    vx = lista[2]\n",
    "    vy = lista[3]\n",
    "    v = sqrt( vx**2 + vy**2 )\n",
    "    cosseno = (l - y)/l\n",
    "    seno = - x/l\n",
    "    T = m * g * cosseno + m * v**2/l\n",
    "    dxdt = vx\n",
    "    dydt = vy\n",
    "    dvxdt = T / m * seno\n",
    "    dvydt = - g + T / m * cosseno\n",
    "    \n",
    "    if y < 1e-4 and dydt < 0:\n",
    "        dxdt = 0\n",
    "        dydt = 0\n",
    "        dvxdt = 0\n",
    "        dvydt = 0\n",
    "    \n",
    "    return [ dxdt , dydt , dvxdt , dvydt ]"
   ]
  },
  {
   "cell_type": "markdown",
   "metadata": {},
   "source": [
    "*Lista de Tempo*"
   ]
  },
  {
   "cell_type": "code",
   "execution_count": 18,
   "metadata": {},
   "outputs": [],
   "source": [
    "CI = [ -l , l , 0 , 0 ]\n",
    "\n",
    "tf = 2\n",
    "dt = 1e-2\n",
    "lista_t = np.arange( 0 , tf , dt )"
   ]
  },
  {
   "cell_type": "markdown",
   "metadata": {},
   "source": [
    "*ODEINT* aqui ele só executa uma vez, sem perda de energia"
   ]
  },
  {
   "cell_type": "code",
   "execution_count": 19,
   "metadata": {},
   "outputs": [
    {
     "data": {
      "image/png": "[encoded data removed]",
      "text/plain": [
       "<Figure size 432x288 with 1 Axes>"
      ]
     },
     "metadata": {
      "needs_background": "light"
     },
     "output_type": "display_data"
    }
   ],
   "source": [
    "solucao = odeint( modelo , CI , lista_t, mxordn = 1 )\n",
    "\n",
    "lista_x = solucao[:,0]\n",
    "lista_y = solucao[:,1]\n",
    "lista_vx = solucao[:,2]\n",
    "\n",
    "plt.plot( lista_x , lista_y, 'r')\n",
    "\n",
    "CI = [ 0 , 0 , K * lista_vx[-1] , 0 ]\n",
    "\n",
    "solucao = odeint( modelo , CI , lista_t, mxordn = 1 )\n",
    "\n",
    "lista_x = solucao[ : , 0 ] + d  # D FOI SOMADO PARA REPRESENTAR A POSIÇÃO DA BOLINHA DA DIREITA\n",
    "lista_y = solucao[ : , 1 ]\n",
    "lista_vx = solucao[ : , 2 ]\n",
    "\n",
    "plt.plot( lista_x , lista_y, 'b')\n",
    "\n",
    "plt.axis(\"equal\")\n",
    "plt.grid(True)\n",
    "plt.show() \n",
    "        \n",
    "        "
   ]
  },
  {
   "cell_type": "markdown",
   "metadata": {},
   "source": [
    "*Plotando Gráficos*"
   ]
  },
  {
   "cell_type": "code",
   "execution_count": 20,
   "metadata": {},
   "outputs": [
    {
     "data": {
      "image/png": "[encoded data removed]",
      "text/plain": [
       "<Figure size 432x288 with 1 Axes>"
      ]
     },
     "metadata": {
      "needs_background": "light"
     },
     "output_type": "display_data"
    }
   ],
   "source": [
    "# CI = [ - l , l , 0 , 0 ]\n",
    "\n",
    "# tf = 2\n",
    "# dt = 1e-2\n",
    "# lista_t = np.arange(0,tf,dt)\n",
    "\n",
    "# vamos criar um vetor para add as posições de x e y\n",
    "x = []\n",
    "y = []\n",
    "\n",
    "for i in range(10):\n",
    "\n",
    "    if i%2 == 0 :\n",
    "\n",
    "        solucao = odeint( modelo , CI , lista_t, mxordn = 1 )\n",
    "\n",
    "        lista_x = solucao[:,0]\n",
    "        x.append(lista_x)\n",
    "        lista_y = solucao[:,1]\n",
    "        y.append(lista_y)\n",
    "        lista_vx = solucao[:,2]\n",
    "\n",
    "        plt.plot(lista_x,lista_y)\n",
    "\n",
    "        CI = [0,0,K*lista_vx[-1],0]\n",
    "        \n",
    "    else:\n",
    "    \n",
    "        solucao = odeint( modelo , CI , lista_t, mxordn = 1 )\n",
    "\n",
    "        lista_x = solucao[:,0] + d\n",
    "        x.append(lista_x)\n",
    "        lista_y = solucao[:,1]\n",
    "        y.append(lista_y)\n",
    "        lista_vx = solucao[:,2]\n",
    "\n",
    "        plt.plot(lista_x , lista_y)\n",
    "\n",
    "        CI = [0,0,K*lista_vx[-1],0]\n",
    "\n",
    "plt.axis(\"equal\")\n",
    "plt.grid(True)\n",
    "plt.show()"
   ]
  },
  {
   "cell_type": "markdown",
   "metadata": {},
   "source": [
    "parte da validação, usando os dados do traker"
   ]
  },
  {
   "cell_type": "code",
   "execution_count": 21,
   "metadata": {},
   "outputs": [
    {
     "data": {
      "image/png": "[encoded data removed]",
      "text/plain": [
       "<Figure size 432x288 with 1 Axes>"
      ]
     },
     "metadata": {
      "needs_background": "light"
     },
     "output_type": "display_data"
    }
   ],
   "source": [
    "# Implemente seu código do item 5 abaixo\n",
    "\n",
    "import pandas\n",
    "\n",
    "colunas = [\"t\",\"x\",\"y\",\"vx\",\"vy\"]\n",
    "data = pandas.read_csv(\"dados_metricos.csv\",names = colunas)\n",
    "\n",
    "te = data.t.tolist()\n",
    "xe = data.x.tolist()\n",
    "ye = data.y.tolist()\n",
    "vxe = data.vx.tolist()\n",
    "vye = data.vy.tolist()\n",
    "\n",
    "CI = [ -l , l , 0 , 0 ]\n",
    "\n",
    "tf = 2\n",
    "dt = 1e-2\n",
    "lista_t = np.arange(0,tf,dt)\n",
    "\n",
    "for i in range(10):\n",
    "\n",
    "    if i%2 == 0 :\n",
    "\n",
    "        solucao = odeint( modelo , CI , lista_t,mxordn = 1)\n",
    "\n",
    "        lista_x = solucao[:,0]\n",
    "        lista_y = solucao[:,1]\n",
    "        lista_vx = solucao[:,2]\n",
    "\n",
    "        plt.plot(lista_x,lista_y)\n",
    "\n",
    "        CI = [0,0,K*lista_vx[-1],0]\n",
    "        \n",
    "    else:\n",
    "    \n",
    "        solucao = odeint( modelo , CI , lista_t,mxordn = 1 )\n",
    "\n",
    "        lista_x = solucao[:,0] + d\n",
    "        lista_y = solucao[:,1]\n",
    "        lista_vx = solucao[:,2]\n",
    "\n",
    "        plt.plot(lista_x , lista_y)\n",
    "\n",
    "        CI = [0,0,K*lista_vx[-1],0]\n",
    "lista_x = []\n",
    "for e in xe:\n",
    "    lista_x.append(e+0.6)\n",
    "plt.plot(lista_x,ye,label = \"Experimento\")\n",
    "plt.legend()\n",
    "plt.axis(\"equal\")\n",
    "plt.grid(True)\n",
    "plt.show()"
   ]
  }
 ],
 "metadata": {
  "kernelspec": {
   "display_name": "Python 3",
   "language": "python",
   "name": "python3"
  },
  "language_info": {
   "codemirror_mode": {
    "name": "ipython",
    "version": 3
   },
   "file_extension": ".py",
   "mimetype": "text/x-python",
   "name": "python",
   "nbconvert_exporter": "python",
   "pygments_lexer": "ipython3",
   "version": "3.8.5"
  }
 },
 "nbformat": 4,
 "nbformat_minor": 4
}
