{
 "cells": [
  {
   "cell_type": "code",
   "execution_count": 83,
   "metadata": {},
   "outputs": [],
   "source": [
    "import numpy as np\n",
    "import matplotlib.pyplot as plt\n",
    "from math import *\n",
    "from scipy.integrate import solve_ivp\n",
    "\n",
    "L = 0.06\n",
    "g = 10\n",
    "m = 0.0064\n",
    "D = 0.04\n",
    "K = 0.944\n",
    "\n",
    "def modelo(t,lista):\n",
    "    x = lista[0]\n",
    "    y = lista[1]\n",
    "    vx = lista[2]\n",
    "    vy = lista[3]\n",
    "    v = sqrt( vx**2 + vy**2 )\n",
    "    cosseno = ( L - y ) / L\n",
    "    seno = - x / L\n",
    "    T = m * g * cosseno + m * v**2 / L\n",
    "    dxdt = vx\n",
    "    dydt = vy\n",
    "    dvxdt = T / m * seno\n",
    "    dvydt = - g + T / m * cosseno\n",
    "    \n",
    "    return [ dxdt , dydt , dvxdt , dvydt ]\n",
    "    \n",
    "def cond_parada(t, lista):\n",
    "    return lista[0]\n",
    "\n",
    "cond_parada.terminal = True\n",
    "\n",
    "def encontra_t_max(lista_t,lista_y):\n",
    "    ymax = lista_y[0]\n",
    "    tmax = 0\n",
    "    for i in range(len(lista_t)):\n",
    "        if lista_y[i]>ymax:\n",
    "            ymax = lista_y[i]\n",
    "            tmax = lista_t[i]\n",
    "    return tmax\n"
   ]
  },
  {
   "cell_type": "code",
   "execution_count": 84,
   "metadata": {},
   "outputs": [
    {
     "name": "stdout",
     "output_type": "stream",
     "text": [
      "o cosseno é 0.8909167407164874\n",
      "o seno é 0.45416666666666666\n"
     ]
    }
   ],
   "source": [
    "# calculos aleatórios\n",
    "L = 0.06\n",
    "x_0 = -7.344e-2\n",
    "y_0 = 2.725e-2\n",
    "\n",
    "sen = y_0/L\n",
    "cos = sqrt(1 - sen**2)\n",
    "\n",
    "print(\"o cosseno é {}\".format(cos))\n",
    "print(\"o seno é {}\".format(sen))"
   ]
  },
  {
   "cell_type": "code",
   "execution_count": 85,
   "metadata": {},
   "outputs": [
    {
     "data": {
      "image/png": "[encoded data removed]",
      "text/plain": [
       "<Figure size 432x288 with 1 Axes>"
      ]
     },
     "metadata": {
      "needs_background": "light"
     },
     "output_type": "display_data"
    }
   ],
   "source": [
    "# ESSE TRECHO É SÓ PARA TESTAR COM UMA EXECUÇÃO DE CADA LADO\n",
    "tf = 2\n",
    "dt = 1e-3\n",
    "t_span = ( 0 , tf )\n",
    "lista_t = np.arange( 0, tf, dt)\n",
    "\n",
    "CI = [ -L*cos , L*sen , 0 , 0 ]\n",
    "\n",
    "solucao = solve_ivp( modelo , t_span , CI , events = cond_parada , t_eval = lista_t )\n",
    "\n",
    "lista_x = solucao.y[ 0 , : ]\n",
    "lista_y = solucao.y[ 1 , : ]\n",
    "lista_vx = solucao.y[ 2 , : ]\n",
    "\n",
    "plt.plot( lista_x , lista_y , 'r')\n",
    "\n",
    "CI = [ 1e-4 , 0 , K * lista_vx[-1] , 0 ]\n",
    "\n",
    "solucao = solve_ivp( modelo , t_span , CI , events = cond_parada , t_eval = lista_t )\n",
    "\n",
    "lista_x = solucao.y[ 0 , : ] + D  # D FOI SOMADO PARA REPRESENTAR A POSIÇÃO DA BOLINHA DA DIREITA\n",
    "lista_y = solucao.y[ 1 , : ]\n",
    "\n",
    "plt.plot( lista_x , lista_y, 'b')\n",
    "plt.grid()\n",
    "plt.axis(\"equal\")\n",
    "plt.show()"
   ]
  },
  {
   "cell_type": "code",
   "execution_count": 86,
   "metadata": {},
   "outputs": [
    {
     "name": "stdout",
     "output_type": "stream",
     "text": [
      "-0.05345500444298924\n",
      "0.03225\n"
     ]
    },
    {
     "data": {
      "image/png": "[encoded data removed]",
      "text/plain": [
       "<Figure size 432x288 with 1 Axes>"
      ]
     },
     "metadata": {
      "needs_background": "light"
     },
     "output_type": "display_data"
    },
    {
     "data": {
      "image/png": "[encoded data removed]",
      "text/plain": [
       "<Figure size 432x288 with 1 Axes>"
      ]
     },
     "metadata": {
      "needs_background": "light"
     },
     "output_type": "display_data"
    }
   ],
   "source": [
    "lista_ymax = []\n",
    "lista_t_ymax = []\n",
    "tfinal = 0\n",
    "\n",
    "CI = [ -L*cos , L*sen+0.005 , 0 , 0 ]\n",
    "print (CI[0])\n",
    "print(CI[1])\n",
    "for i in range(50):\n",
    "\n",
    "    if i%2 == 0 :\n",
    "\n",
    "        solucao = solve_ivp( modelo , t_span , CI , events = cond_parada , t_eval = lista_t )\n",
    "\n",
    "        lista_x = solucao.y[ 0 , : ]\n",
    "        lista_y = solucao.y[ 1 , : ]\n",
    "        lista_vx = solucao.y[ 2 , : ]\n",
    "\n",
    "        lista_ymax.append(max(lista_y))\n",
    "        lista_t_ymax.append(encontra_t_max( solucao.t , lista_y ) + tfinal)\n",
    "\n",
    "        tfinal = tfinal + solucao.t[-1]\n",
    "        \n",
    "        plt.plot( lista_x , lista_y ) \n",
    "\n",
    "        CI = [ 1e-4 , 0 , K * lista_vx[-1] , 0 ]\n",
    "        \n",
    "    else:\n",
    "    \n",
    "        solucao = solve_ivp( modelo , t_span , CI , events = cond_parada , t_eval = lista_t )\n",
    "\n",
    "        lista_x = solucao.y[ 0 , : ] + D\n",
    "        lista_y = solucao.y[ 1 , : ]\n",
    "        lista_vx = solucao.y[ 2 , : ]\n",
    "\n",
    "        lista_ymax.append(max(lista_y))\n",
    "        lista_t_ymax.append(encontra_t_max( solucao.t , lista_y ) + tfinal)\n",
    "\n",
    "        tfinal = tfinal + solucao.t[-1]\n",
    "        \n",
    "        plt.plot( lista_x , lista_y ) \n",
    "        \n",
    "        CI = [ -1e-4 , 0 , K * lista_vx[-1] , 0 ]\n",
    "        \n",
    "plt.axis(\"equal\")\n",
    "plt.title(\"Movimento do pendulo\")\n",
    "plt.grid(True)\n",
    "plt.show() \n",
    "\n",
    "\n",
    "plt.plot( lista_t_ymax , lista_ymax, 'ro' )\n",
    "plt.title(\"Altura máxima em função do tempo\")\n",
    "plt.grid(True)\n",
    "plt.show() \n"
   ]
  },
  {
   "cell_type": "markdown",
   "metadata": {},
   "source": [
    "# validação do modelo"
   ]
  },
  {
   "cell_type": "code",
   "execution_count": 87,
   "metadata": {},
   "outputs": [
    {
     "data": {
      "image/png": "[encoded data removed]",
      "text/plain": [
       "<Figure size 432x288 with 1 Axes>"
      ]
     },
     "metadata": {
      "needs_background": "light"
     },
     "output_type": "display_data"
    }
   ],
   "source": [
    "import pandas\n",
    "\n",
    "colunas = [\"t\",\"x\",\"y\"] #,\"vx\",\"vy\"]\n",
    "datae = pandas.read_csv(\"Dados_MassA.csv\",names = colunas)\n",
    "datad = pandas.read_csv(\"Dados_MassB.csv\",names = colunas)\n",
    "\n",
    "te = datae.t.tolist()\n",
    "# ajustar a origem no eixo do tempo\n",
    "\n",
    "t_e = []\n",
    "for t in te:\n",
    "    t_e.append(t - 8.133)\n",
    "    \n",
    "xe = datae.x.tolist()\n",
    "ye = datae.y.tolist()\n",
    "# VAMOS CALCULAR A ALTURA MÁXIMA DE CADA COLISÃO\n",
    "y_e_max = [ye[0],ye[33],ye[66],ye[98],ye[128],ye[161],ye[193],ye[224],ye[258],ye[289]]  \n",
    "t_e_ok = [t_e[0],t_e[33],t_e[66],t_e[98],t_e[128],t_e[161],t_e[193],t_e[224],t_e[258],t_e[289]]\n",
    "\n",
    "# ajustar a origem no eixo do tempo para o lado direito\n",
    "td = datad.t.tolist()\n",
    "\n",
    "t_d = []\n",
    "for t in td:\n",
    "    t_d.append(t - 8.275)\n",
    "        \n",
    "xd = datad.x.tolist()\n",
    "yd = datad.y.tolist()\n",
    "y_d_max = [yd[18],yd[50],yd[82],yd[115],yd[147],yd[179],yd[210],yd[240],yd[273],yd[305]]\n",
    "t_d_ok = [t_d[18],t_d[50],t_d[82],t_d[115],t_d[147],t_d[179],t_d[210],t_d[240],t_d[273],t_d[305]]\n",
    "\n",
    "plt.title(\"Resultado da primeira iteração\")\n",
    "plt.plot(t_e_ok,y_e_max,\"mo\", label = \"Bola Esquerda\")\n",
    "plt.plot(t_d_ok,y_d_max,\"bo\", label = \"Bola Direita\")\n",
    "plt.plot(lista_t_ymax , lista_ymax, 'r', label = \"Teórico\")\n",
    "plt.legend()\n",
    "plt.xlabel(\"Tempo (s)\")\n",
    "plt.ylabel(\"Altura máxima (m)\")\n",
    "plt.grid(True)\n",
    "plt.show()\n",
    "\n"
   ]
  },
  {
   "cell_type": "code",
   "execution_count": 88,
   "metadata": {},
   "outputs": [],
   "source": [
    "# variando o valor da contante K\n",
    "\n",
    "lista_ymax_1 = []\n",
    "lista_t_ymax_1 = []\n",
    "tfinal_1 = 0\n",
    "\n",
    "# criando um lista de k para serem analizados\n",
    "\n",
    "lisK = np.arange(0.9,0.95,0.05)\n",
    "\n",
    "for K in lisK:\n",
    "    \n",
    "    CI = [ -L*cos , L*sen , 0 , 0 ]\n",
    "\n",
    "    for i in range(50):\n",
    "\n",
    "        if i%2 == 0 :\n",
    "\n",
    "            solucao = solve_ivp( modelo , t_span , CI , events = cond_parada , t_eval = lista_t )\n",
    "\n",
    "            lista_x = solucao.y[ 0 , : ]\n",
    "            lista_y = solucao.y[ 1 , : ]\n",
    "            lista_vx = solucao.y[ 2 , : ]\n",
    "\n",
    "            lista_ymax_1.append(max(lista_y))\n",
    "            lista_t_ymax_1.append(encontra_t_max( solucao.t , lista_y ) + tfinal_1)\n",
    "\n",
    "            tfinal_1 = tfinal_1 + solucao.t[-1]\n",
    "\n",
    "            #plt.plot( lista_x , lista_y ) \n",
    "\n",
    "            CI = [ 1e-4 , 0 , K * lista_vx[-1] , 0 ]\n",
    "\n",
    "        else:\n",
    "\n",
    "            solucao = solve_ivp( modelo , t_span , CI , events = cond_parada , t_eval = lista_t )\n",
    "\n",
    "            lista_x = solucao.y[ 0 , : ] + D\n",
    "            lista_y = solucao.y[ 1 , : ]\n",
    "            lista_vx = solucao.y[ 2 , : ]\n",
    "\n",
    "            lista_ymax_1.append(max(lista_y))\n",
    "            lista_t_ymax_1.append(encontra_t_max( solucao.t , lista_y ) + tfinal_1)\n",
    "\n",
    "            tfinal_1 = tfinal_1 + solucao.t[-1]\n",
    "\n",
    "            #plt.plot( lista_x , lista_y ) \n",
    "\n",
    "            CI = [ -1e-4 , 0 , K * lista_vx[-1] , 0 ]\n",
    "\n"
   ]
  }
 ],
 "metadata": {
  "kernelspec": {
   "display_name": "Python 3",
   "language": "python",
   "name": "python3"
  },
  "language_info": {
   "codemirror_mode": {
    "name": "ipython",
    "version": 3
   },
   "file_extension": ".py",
   "mimetype": "text/x-python",
   "name": "python",
   "nbconvert_exporter": "python",
   "pygments_lexer": "ipython3",
   "version": "3.8.5"
  }
 },
 "nbformat": 4,
 "nbformat_minor": 4
}
